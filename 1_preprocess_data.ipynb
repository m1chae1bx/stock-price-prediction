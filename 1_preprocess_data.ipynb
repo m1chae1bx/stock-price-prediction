{
 "cells": [
  {
   "cell_type": "code",
   "execution_count": 21,
   "metadata": {},
   "outputs": [],
   "source": [
    "CONFIG_FILE = \"data/preprocess_config_v_0_1.py\""
   ]
  },
  {
   "cell_type": "code",
   "execution_count": 22,
   "metadata": {},
   "outputs": [
    {
     "data": {
      "text/plain": [
       "<module 'data.preprocess_config_v_0_1' from '/Users/michaelbonon/Coding/stock-price-predictor/apps/stock-price-model/data/preprocess_config_v_0_1.py'>"
      ]
     },
     "execution_count": 22,
     "metadata": {},
     "output_type": "execute_result"
    }
   ],
   "source": [
    "import json\n",
    "import importlib\n",
    "import os\n",
    "import pandas as pd\n",
    "\n",
    "# Load config file\n",
    "config = importlib.import_module(CONFIG_FILE.replace(\"/\", \".\").replace(\".py\", \"\"))\n",
    "importlib.reload(config)\n"
   ]
  },
  {
   "cell_type": "code",
   "execution_count": 23,
   "metadata": {},
   "outputs": [
    {
     "name": "stdout",
     "output_type": "stream",
     "text": [
      "['CREATE_METADATA', 'DATA_VERSION_MAJOR', 'DATA_VERSION_MINOR', 'FEATURES', 'INDEX_COL', 'Metadata', 'OUTPUT_DIR', 'RAW_DATA_DIR', 'RAW_DATA_FILENAMES', 'REF_COLS', 'TARGET_COLS', 'TRANSFORMS', 'WINDOW_SIZE', '__builtins__', '__cached__', '__doc__', '__file__', '__loader__', '__name__', '__package__', '__spec__', 'create_metadata', 'create_windowed_dataset', 'pd', 'transform_data']\n"
     ]
    }
   ],
   "source": [
    "# Check if config file has all the required attributes\n",
    "print(dir(config))\n",
    "\n",
    "required_attributes = [\n",
    "    \"DATA_VERSION_MAJOR\",\n",
    "    \"DATA_VERSION_MINOR\",\n",
    "    \"RAW_DATA_DIR\",\n",
    "    \"RAW_DATA_FILENAMES\",\n",
    "    \"OUTPUT_DIR\",\n",
    "    \"TRANSFORMS\",\n",
    "    \"CREATE_METADATA\",\n",
    "]\n",
    "\n",
    "for attr in required_attributes:\n",
    "    if not hasattr(config, attr):\n",
    "        raise AttributeError(f\"Attribute {attr} not found in config file.\")\n",
    "    \n",
    "DATA_VERSION_MAJOR = config.DATA_VERSION_MAJOR\n",
    "DATA_VERSION_MINOR = config.DATA_VERSION_MINOR\n",
    "RAW_DATA_DIR = config.RAW_DATA_DIR\n",
    "RAW_DATA_FILENAMES = config.RAW_DATA_FILENAMES\n",
    "OUTPUT_DIR = config.OUTPUT_DIR\n",
    "TRANSFORMS = config.TRANSFORMS\n",
    "CREATE_METADATA = config.CREATE_METADATA"
   ]
  },
  {
   "cell_type": "code",
   "execution_count": 24,
   "metadata": {},
   "outputs": [],
   "source": [
    "# Helper functions\n",
    "def load_data(path: str):\n",
    "    \"\"\"\n",
    "    Loads the data from the given path and converts the columns\n",
    "    to the correct data types.\n",
    "    \"\"\"\n",
    "    df = pd.read_csv(path, dtype=str)\n",
    "    \n",
    "    return df\n",
    "\n",
    "def save_df_to_csv(df: pd.DataFrame, path: str):\n",
    "    \"\"\"\n",
    "    Saves the dataframe to a CSV file.\n",
    "    \"\"\"\n",
    "    df.to_csv(\n",
    "        path, \n",
    "        float_format=\"%.2f\", \n",
    "        index=False,\n",
    "        mode=\"w\",\n",
    "    )\n",
    "\n",
    "def preprocess_data(dir: str, filename: str, output_dir: str):\n",
    "    \"\"\"\n",
    "    Preprocesses the data from the given path and saves the\n",
    "    preprocessed data to a new file.\n",
    "    \"\"\"\n",
    "    df = load_data(f\"{dir}/{filename}\")\n",
    "\n",
    "    for transforms in TRANSFORMS:\n",
    "        df = transforms(df)\n",
    "\n",
    "    create_metadata = CREATE_METADATA\n",
    "    metadata = create_metadata(df)\n",
    "\n",
    "    version_dir = \"v_{}_{}\".format(DATA_VERSION_MAJOR, DATA_VERSION_MINOR)\n",
    "    \n",
    "    metadata_filepath = \"{}/{}/{}\".format(\n",
    "        output_dir,\n",
    "        version_dir,\n",
    "        filename.replace(\".csv\", \"_metadata.json\"),\n",
    "    )\n",
    "    os.makedirs(os.path.dirname(metadata_filepath), exist_ok=True)\n",
    "\n",
    "    with open(metadata_filepath, \"w\") as f:\n",
    "        json.dump(metadata, f)\n",
    "    \n",
    "    filepath = \"{}/{}/{}\".format(\n",
    "        output_dir,\n",
    "        version_dir,\n",
    "        filename\n",
    "    )\n",
    "    save_df_to_csv(df, filepath)"
   ]
  },
  {
   "cell_type": "code",
   "execution_count": 25,
   "metadata": {},
   "outputs": [],
   "source": [
    "for filename in RAW_DATA_FILENAMES:\n",
    "    preprocess_data(RAW_DATA_DIR, filename, OUTPUT_DIR)"
   ]
  }
 ],
 "metadata": {
  "kernelspec": {
   "display_name": "stock-price-model",
   "language": "python",
   "name": "python3"
  },
  "language_info": {
   "codemirror_mode": {
    "name": "ipython",
    "version": 3
   },
   "file_extension": ".py",
   "mimetype": "text/x-python",
   "name": "python",
   "nbconvert_exporter": "python",
   "pygments_lexer": "ipython3",
   "version": "3.10.7"
  },
  "orig_nbformat": 4,
  "vscode": {
   "interpreter": {
    "hash": "c9651fe4711116b58576197cb7b9a712ffc15ff381142ea8887467b64161274a"
   }
  }
 },
 "nbformat": 4,
 "nbformat_minor": 2
}
